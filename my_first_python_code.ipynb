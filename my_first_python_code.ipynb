{
  "nbformat": 4,
  "nbformat_minor": 0,
  "metadata": {
    "colab": {
      "provenance": [],
      "authorship_tag": "ABX9TyMtUn/uK+wE1WdSfR9wnhN6",
      "include_colab_link": true
    },
    "kernelspec": {
      "name": "python3",
      "display_name": "Python 3"
    },
    "language_info": {
      "name": "python"
    }
  },
  "cells": [
    {
      "cell_type": "markdown",
      "metadata": {
        "id": "view-in-github",
        "colab_type": "text"
      },
      "source": [
        "<a href=\"https://colab.research.google.com/github/Alen-T-Alex/class-homework-1.2/blob/main/my_first_python_code.ipynb\" target=\"_parent\"><img src=\"https://colab.research.google.com/assets/colab-badge.svg\" alt=\"Open In Colab\"/></a>"
      ]
    },
    {
      "cell_type": "code",
      "source": [
        "my_name_is =\"Hi my name is Alen\"\n",
        "My_class =\"i just finished my 10th grade and now im movig on to 11th\"\n",
        "My_hobbies =\"i like to code and to play table tennis\"\n",
        "The_end =\"that's all about me. I will see you later\"\n",
        "print(my_name_is)\n",
        "print(My_class)\n",
        "print(My_hobbies)\n",
        "print(The_end)\n",
        "\n"
      ],
      "metadata": {
        "colab": {
          "base_uri": "https://localhost:8080/"
        },
        "id": "y5iP55rO9sTi",
        "outputId": "7e0b0f51-5735-4f35-e337-2999b6ca25d8"
      },
      "execution_count": null,
      "outputs": [
        {
          "output_type": "stream",
          "name": "stdout",
          "text": [
            "Hi my name is Alen\n",
            "i just finished my 10th grade and now im movig on to 11th\n",
            "i like to code and to play table tennis\n",
            "that's all about me. I will see you later\n"
          ]
        }
      ]
    }
  ]
}